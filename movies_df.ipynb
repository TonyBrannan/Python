{
 "cells": [
  {
   "cell_type": "code",
   "execution_count": null,
   "id": "5b671bb7",
   "metadata": {},
   "outputs": [],
   "source": [
    "import os\n",
    "import pandas as pd\n",
    "import csv\n",
    "import numpy as np\n",
    "import seaborn as sns\n",
    "import matplotlib.pyplot as plt"
   ]
  },
  {
   "cell_type": "code",
   "execution_count": null,
   "id": "24cc4e1a",
   "metadata": {},
   "outputs": [],
   "source": [
    "# Reading csv file\n",
    "cf = 'movies.csv'\n",
    "cf = pd.read_csv('movies.csv')"
   ]
  },
  {
   "cell_type": "code",
   "execution_count": null,
   "id": "7bd643a5",
   "metadata": {},
   "outputs": [],
   "source": [
    "# Missing data\n",
    "for col in cf.columns:\n",
    "    pct_missing = np.mean(cf[col].isnull())\n",
    "    print('{} - {}%'.format(col, round(pct_missing*100)))"
   ]
  },
  {
   "cell_type": "code",
   "execution_count": 137,
   "id": "1e74a0ce",
   "metadata": {},
   "outputs": [
    {
     "data": {
      "text/plain": [
       "0        46998772\n",
       "1        58853106\n",
       "2       538375067\n",
       "3        83453539\n",
       "4        39846344\n",
       "          ...    \n",
       "7663         <NA>\n",
       "7664         <NA>\n",
       "7665         <NA>\n",
       "7666         <NA>\n",
       "7667         <NA>\n",
       "Name: gross, Length: 7668, dtype: Int64"
      ]
     },
     "execution_count": 137,
     "metadata": {},
     "output_type": "execute_result"
    }
   ],
   "source": [
    "#Cleanning data\n",
    "cf.drop_duplicates()\n",
    "cf.drop('votes', inplace=True, axis=1)\n",
    "cf.budget.round().astype('Int64')\n",
    "cf.gross.round().astype('Int64')"
   ]
  },
  {
   "cell_type": "code",
   "execution_count": 118,
   "id": "7410e5f7",
   "metadata": {},
   "outputs": [
    {
     "data": {
      "text/plain": [
       "0       False\n",
       "1       False\n",
       "2       False\n",
       "3       False\n",
       "4       False\n",
       "        ...  \n",
       "7653    False\n",
       "7655    False\n",
       "7656    False\n",
       "7657    False\n",
       "7659    False\n",
       "Name: gross, Length: 7479, dtype: bool"
      ]
     },
     "execution_count": 118,
     "metadata": {},
     "output_type": "execute_result"
    }
   ],
   "source": [
    "cf.dropna(subset = ['gross'], inplace = True)\n",
    "\n",
    "cf['gross'].isnull()"
   ]
  },
  {
   "cell_type": "code",
   "execution_count": 143,
   "id": "993b64f1",
   "metadata": {
    "scrolled": false
   },
   "outputs": [
    {
     "data": {
      "text/html": [
       "<div>\n",
       "<style scoped>\n",
       "    .dataframe tbody tr th:only-of-type {\n",
       "        vertical-align: middle;\n",
       "    }\n",
       "\n",
       "    .dataframe tbody tr th {\n",
       "        vertical-align: top;\n",
       "    }\n",
       "\n",
       "    .dataframe thead th {\n",
       "        text-align: right;\n",
       "    }\n",
       "</style>\n",
       "<table border=\"1\" class=\"dataframe\">\n",
       "  <thead>\n",
       "    <tr style=\"text-align: right;\">\n",
       "      <th></th>\n",
       "      <th>name</th>\n",
       "      <th>rating</th>\n",
       "      <th>genre</th>\n",
       "      <th>year</th>\n",
       "      <th>released</th>\n",
       "      <th>score</th>\n",
       "      <th>director</th>\n",
       "      <th>writer</th>\n",
       "      <th>star</th>\n",
       "      <th>country</th>\n",
       "      <th>budget</th>\n",
       "      <th>gross</th>\n",
       "      <th>company</th>\n",
       "      <th>runtime</th>\n",
       "      <th>Year</th>\n",
       "      <th>Max</th>\n",
       "    </tr>\n",
       "  </thead>\n",
       "  <tbody>\n",
       "    <tr>\n",
       "      <th>0</th>\n",
       "      <td>The Shining</td>\n",
       "      <td>R</td>\n",
       "      <td>Drama</td>\n",
       "      <td>1980</td>\n",
       "      <td>June 13, 1980 (United States)</td>\n",
       "      <td>8.4</td>\n",
       "      <td>Stanley Kubrick</td>\n",
       "      <td>Stephen King</td>\n",
       "      <td>Jack Nicholson</td>\n",
       "      <td>United Kingdom</td>\n",
       "      <td>19000000.0</td>\n",
       "      <td>46998772.0</td>\n",
       "      <td>Warner Bros.</td>\n",
       "      <td>146.0</td>\n",
       "      <td>June</td>\n",
       "      <td>gross</td>\n",
       "    </tr>\n",
       "    <tr>\n",
       "      <th>1</th>\n",
       "      <td>The Blue Lagoon</td>\n",
       "      <td>R</td>\n",
       "      <td>Adventure</td>\n",
       "      <td>1980</td>\n",
       "      <td>July 2, 1980 (United States)</td>\n",
       "      <td>5.8</td>\n",
       "      <td>Randal Kleiser</td>\n",
       "      <td>Henry De Vere Stacpoole</td>\n",
       "      <td>Brooke Shields</td>\n",
       "      <td>United States</td>\n",
       "      <td>4500000.0</td>\n",
       "      <td>58853106.0</td>\n",
       "      <td>Columbia Pictures</td>\n",
       "      <td>104.0</td>\n",
       "      <td>July</td>\n",
       "      <td>gross</td>\n",
       "    </tr>\n",
       "    <tr>\n",
       "      <th>2</th>\n",
       "      <td>Star Wars: Episode V - The Empire Strikes Back</td>\n",
       "      <td>PG</td>\n",
       "      <td>Action</td>\n",
       "      <td>1980</td>\n",
       "      <td>June 20, 1980 (United States)</td>\n",
       "      <td>8.7</td>\n",
       "      <td>Irvin Kershner</td>\n",
       "      <td>Leigh Brackett</td>\n",
       "      <td>Mark Hamill</td>\n",
       "      <td>United States</td>\n",
       "      <td>18000000.0</td>\n",
       "      <td>538375067.0</td>\n",
       "      <td>Lucasfilm</td>\n",
       "      <td>124.0</td>\n",
       "      <td>June</td>\n",
       "      <td>gross</td>\n",
       "    </tr>\n",
       "    <tr>\n",
       "      <th>3</th>\n",
       "      <td>Airplane!</td>\n",
       "      <td>PG</td>\n",
       "      <td>Comedy</td>\n",
       "      <td>1980</td>\n",
       "      <td>July 2, 1980 (United States)</td>\n",
       "      <td>7.7</td>\n",
       "      <td>Jim Abrahams</td>\n",
       "      <td>Jim Abrahams</td>\n",
       "      <td>Robert Hays</td>\n",
       "      <td>United States</td>\n",
       "      <td>3500000.0</td>\n",
       "      <td>83453539.0</td>\n",
       "      <td>Paramount Pictures</td>\n",
       "      <td>88.0</td>\n",
       "      <td>July</td>\n",
       "      <td>gross</td>\n",
       "    </tr>\n",
       "    <tr>\n",
       "      <th>4</th>\n",
       "      <td>Caddyshack</td>\n",
       "      <td>R</td>\n",
       "      <td>Comedy</td>\n",
       "      <td>1980</td>\n",
       "      <td>July 25, 1980 (United States)</td>\n",
       "      <td>7.3</td>\n",
       "      <td>Harold Ramis</td>\n",
       "      <td>Brian Doyle-Murray</td>\n",
       "      <td>Chevy Chase</td>\n",
       "      <td>United States</td>\n",
       "      <td>6000000.0</td>\n",
       "      <td>39846344.0</td>\n",
       "      <td>Orion Pictures</td>\n",
       "      <td>98.0</td>\n",
       "      <td>July</td>\n",
       "      <td>gross</td>\n",
       "    </tr>\n",
       "  </tbody>\n",
       "</table>\n",
       "</div>"
      ],
      "text/plain": [
       "                                             name rating      genre  year  \\\n",
       "0                                     The Shining      R      Drama  1980   \n",
       "1                                 The Blue Lagoon      R  Adventure  1980   \n",
       "2  Star Wars: Episode V - The Empire Strikes Back     PG     Action  1980   \n",
       "3                                       Airplane!     PG     Comedy  1980   \n",
       "4                                      Caddyshack      R     Comedy  1980   \n",
       "\n",
       "                        released  score         director  \\\n",
       "0  June 13, 1980 (United States)    8.4  Stanley Kubrick   \n",
       "1   July 2, 1980 (United States)    5.8   Randal Kleiser   \n",
       "2  June 20, 1980 (United States)    8.7   Irvin Kershner   \n",
       "3   July 2, 1980 (United States)    7.7     Jim Abrahams   \n",
       "4  July 25, 1980 (United States)    7.3     Harold Ramis   \n",
       "\n",
       "                    writer            star         country      budget  \\\n",
       "0             Stephen King  Jack Nicholson  United Kingdom  19000000.0   \n",
       "1  Henry De Vere Stacpoole  Brooke Shields   United States   4500000.0   \n",
       "2           Leigh Brackett     Mark Hamill   United States  18000000.0   \n",
       "3             Jim Abrahams     Robert Hays   United States   3500000.0   \n",
       "4       Brian Doyle-Murray     Chevy Chase   United States   6000000.0   \n",
       "\n",
       "         gross             company  runtime  Year    Max  \n",
       "0   46998772.0        Warner Bros.    146.0  June  gross  \n",
       "1   58853106.0   Columbia Pictures    104.0  July  gross  \n",
       "2  538375067.0           Lucasfilm    124.0  June  gross  \n",
       "3   83453539.0  Paramount Pictures     88.0  July  gross  \n",
       "4   39846344.0      Orion Pictures     98.0  July  gross  "
      ]
     },
     "execution_count": 143,
     "metadata": {},
     "output_type": "execute_result"
    }
   ],
   "source": [
    "#Sorting data\n",
    "cf.sort_values(by=['gross'], inplace=False, ascending=False)\n",
    "cf"
   ]
  },
  {
   "cell_type": "code",
   "execution_count": 140,
   "id": "da315a86",
   "metadata": {},
   "outputs": [],
   "source": [
    "cf['Max'] = cf[['gross']].idxmax(axis=1)"
   ]
  },
  {
   "cell_type": "code",
   "execution_count": 139,
   "id": "82aa8f62",
   "metadata": {},
   "outputs": [],
   "source": [
    "cf['Year'] = cf['released'].astype(str).str[:4]"
   ]
  },
  {
   "cell_type": "code",
   "execution_count": 122,
   "id": "fa03154c",
   "metadata": {},
   "outputs": [
    {
     "data": {
      "text/html": [
       "<div>\n",
       "<style scoped>\n",
       "    .dataframe tbody tr th:only-of-type {\n",
       "        vertical-align: middle;\n",
       "    }\n",
       "\n",
       "    .dataframe tbody tr th {\n",
       "        vertical-align: top;\n",
       "    }\n",
       "\n",
       "    .dataframe thead th {\n",
       "        text-align: right;\n",
       "    }\n",
       "</style>\n",
       "<table border=\"1\" class=\"dataframe\">\n",
       "  <thead>\n",
       "    <tr style=\"text-align: right;\">\n",
       "      <th></th>\n",
       "      <th></th>\n",
       "      <th>gross</th>\n",
       "    </tr>\n",
       "    <tr>\n",
       "      <th>company</th>\n",
       "      <th>year</th>\n",
       "      <th></th>\n",
       "    </tr>\n",
       "  </thead>\n",
       "  <tbody>\n",
       "    <tr>\n",
       "      <th>\"DIA\" Productions GmbH &amp; Co. KG</th>\n",
       "      <th>2003</th>\n",
       "      <td>44350926.0</td>\n",
       "    </tr>\n",
       "    <tr>\n",
       "      <th>\"Weathering With You\" Film Partners</th>\n",
       "      <th>2019</th>\n",
       "      <td>193457467.0</td>\n",
       "    </tr>\n",
       "    <tr>\n",
       "      <th>.406 Production</th>\n",
       "      <th>1996</th>\n",
       "      <td>10580.0</td>\n",
       "    </tr>\n",
       "    <tr>\n",
       "      <th>1+2 Seisaku Iinkai</th>\n",
       "      <th>2000</th>\n",
       "      <td>1196218.0</td>\n",
       "    </tr>\n",
       "    <tr>\n",
       "      <th>10 West Studios</th>\n",
       "      <th>2010</th>\n",
       "      <td>814906.0</td>\n",
       "    </tr>\n",
       "    <tr>\n",
       "      <th>...</th>\n",
       "      <th>...</th>\n",
       "      <td>...</td>\n",
       "    </tr>\n",
       "    <tr>\n",
       "      <th>i am OTHER</th>\n",
       "      <th>2015</th>\n",
       "      <td>17986781.0</td>\n",
       "    </tr>\n",
       "    <tr>\n",
       "      <th>i5 Films</th>\n",
       "      <th>2001</th>\n",
       "      <td>10031529.0</td>\n",
       "    </tr>\n",
       "    <tr>\n",
       "      <th>iDeal Partners Film Fund</th>\n",
       "      <th>2013</th>\n",
       "      <td>506303.0</td>\n",
       "    </tr>\n",
       "    <tr>\n",
       "      <th>micro_scope</th>\n",
       "      <th>2010</th>\n",
       "      <td>7099598.0</td>\n",
       "    </tr>\n",
       "    <tr>\n",
       "      <th>thefyzz</th>\n",
       "      <th>2017</th>\n",
       "      <td>62198461.0</td>\n",
       "    </tr>\n",
       "  </tbody>\n",
       "</table>\n",
       "<p>4387 rows × 1 columns</p>\n",
       "</div>"
      ],
      "text/plain": [
       "                                                gross\n",
       "company                             year             \n",
       "\"DIA\" Productions GmbH & Co. KG     2003   44350926.0\n",
       "\"Weathering With You\" Film Partners 2019  193457467.0\n",
       ".406 Production                     1996      10580.0\n",
       "1+2 Seisaku Iinkai                  2000    1196218.0\n",
       "10 West Studios                     2010     814906.0\n",
       "...                                               ...\n",
       "i am OTHER                          2015   17986781.0\n",
       "i5 Films                            2001   10031529.0\n",
       "iDeal Partners Film Fund            2013     506303.0\n",
       "micro_scope                         2010    7099598.0\n",
       "thefyzz                             2017   62198461.0\n",
       "\n",
       "[4387 rows x 1 columns]"
      ]
     },
     "execution_count": 122,
     "metadata": {},
     "output_type": "execute_result"
    }
   ],
   "source": [
    "#Finding which company had the highest gross\n",
    "cf.groupby(['company', 'year'])[[\"gross\"]].sum()"
   ]
  },
  {
   "cell_type": "code",
   "execution_count": 123,
   "id": "e3b2e44b",
   "metadata": {},
   "outputs": [
    {
     "data": {
      "text/plain": [
       "<AxesSubplot:xlabel='rating', ylabel='gross'>"
      ]
     },
     "execution_count": 123,
     "metadata": {},
     "output_type": "execute_result"
    },
    {
     "data": {
      "image/png": "[encoded data removed]",
      "text/plain": [
       "<Figure size 640x480 with 1 Axes>"
      ]
     },
     "metadata": {},
     "output_type": "display_data"
    }
   ],
   "source": [
    "sns.stripplot(x=\"rating\", y=\"gross\", data=cf)"
   ]
  }
 ],
 "metadata": {
  "kernelspec": {
   "display_name": "Python 3 (ipykernel)",
   "language": "python",
   "name": "python3"
  },
  "language_info": {
   "codemirror_mode": {
    "name": "ipython",
    "version": 3
   },
   "file_extension": ".py",
   "mimetype": "text/x-python",
   "name": "python",
   "nbconvert_exporter": "python",
   "pygments_lexer": "ipython3",
   "version": "3.9.13"
  }
 },
 "nbformat": 4,
 "nbformat_minor": 5
}
